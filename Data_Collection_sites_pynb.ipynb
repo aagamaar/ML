{
  "nbformat": 4,
  "nbformat_minor": 0,
  "metadata": {
    "colab": {
      "provenance": [],
      "authorship_tag": "ABX9TyOEQBMsoEMwBNnHjfAAKKtW",
      "include_colab_link": true
    },
    "kernelspec": {
      "name": "python3",
      "display_name": "Python 3"
    },
    "language_info": {
      "name": "python"
    }
  },
  "cells": [
    {
      "cell_type": "markdown",
      "metadata": {
        "id": "view-in-github",
        "colab_type": "text"
      },
      "source": [
        "<a href=\"https://colab.research.google.com/github/aagamaar/ML/blob/main/Data_Collection_sites_pynb.ipynb\" target=\"_parent\"><img src=\"https://colab.research.google.com/assets/colab-badge.svg\" alt=\"Open In Colab\"/></a>"
      ]
    },
    {
      "cell_type": "markdown",
      "source": [
        "Python Basic Data Types:\n",
        "int\n",
        "str\n",
        "boolean\n",
        "float\n",
        "complex"
      ],
      "metadata": {
        "id": "DvmkjFIqHvQH"
      }
    },
    {
      "cell_type": "markdown",
      "source": [
        "Data Collection Sites:\n",
        "\n",
        "\n",
        "```\n",
        "\n"
      ],
      "metadata": {
        "id": "bxQoA886PcDG"
      }
    },
    {
      "cell_type": "markdown",
      "source": [
        "1.Google Data Search Set\n",
        "\n",
        "2.Kaggle\n",
        "\n",
        "3.UCI Machine Learning Reapository\n"
      ],
      "metadata": {
        "id": "kG7wfIv2PjPZ"
      }
    },
    {
      "cell_type": "code",
      "source": [],
      "metadata": {
        "id": "wdzdo-JJP4me"
      },
      "execution_count": null,
      "outputs": []
    }
  ]
}