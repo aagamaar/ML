{
  "nbformat": 4,
  "nbformat_minor": 0,
  "metadata": {
    "colab": {
      "provenance": [],
      "authorship_tag": "ABX9TyOTk3iLXWVUKWDJwtDaAC+D",
      "include_colab_link": true
    },
    "kernelspec": {
      "name": "python3",
      "display_name": "Python 3"
    },
    "language_info": {
      "name": "python"
    }
  },
  "cells": [
    {
      "cell_type": "markdown",
      "metadata": {
        "id": "view-in-github",
        "colab_type": "text"
      },
      "source": [
        "<a href=\"https://colab.research.google.com/github/aagamaar/ML/blob/main/PROJECT_1_ROCK_vs_MINE_prediction.ipynb\" target=\"_parent\"><img src=\"https://colab.research.google.com/assets/colab-badge.svg\" alt=\"Open In Colab\"/></a>"
      ]
    },
    {
      "cell_type": "markdown",
      "source": [
        "CONFIGURING THE PATH OF KAGGLE JSON FILE"
      ],
      "metadata": {
        "id": "vhTlHdQiRCpC"
      }
    },
    {
      "cell_type": "code",
      "source": [
        "# configuring the path of kaggle.json file\n",
        "\n",
        "!mkdir -p ~/.kaggle\n",
        "!cp kaggle.json ~/.kaggle/\n",
        "!chmod 600 ~/.kaggle/kaggle.json"
      ],
      "metadata": {
        "id": "cbPIyFG2Mp0H"
      },
      "execution_count": 1,
      "outputs": []
    },
    {
      "cell_type": "markdown",
      "source": [
        "DOWNLOADING THE ZIP FILE FROM KAGGLE WEBSITE"
      ],
      "metadata": {
        "id": "UpT_Tg5eRJ0f"
      }
    },
    {
      "cell_type": "code",
      "source": [
        "#!/bin/bash\n",
        "! kaggle datasets download mattcarter865/mines-vs-rocks"
      ],
      "metadata": {
        "colab": {
          "base_uri": "https://localhost:8080/"
        },
        "id": "_FPo52fVQnrY",
        "outputId": "cac67c47-3b94-4cbc-f358-91be6047d19d"
      },
      "execution_count": 2,
      "outputs": [
        {
          "output_type": "stream",
          "name": "stdout",
          "text": [
            "Dataset URL: https://www.kaggle.com/datasets/mattcarter865/mines-vs-rocks\n",
            "License(s): other\n",
            "Downloading mines-vs-rocks.zip to /content\n",
            "  0% 0.00/29.1k [00:00<?, ?B/s]\n",
            "100% 29.1k/29.1k [00:00<00:00, 91.3MB/s]\n"
          ]
        }
      ]
    },
    {
      "cell_type": "markdown",
      "source": [
        "EXTRACTING THE ZIP FILE"
      ],
      "metadata": {
        "id": "qpEg8nrZRPSR"
      }
    },
    {
      "cell_type": "code",
      "source": [
        "from zipfile import ZipFile\n",
        "dataset = '/content/mines-vs-rocks.zip'\n",
        "\n",
        "with ZipFile(dataset,'r') as zip:\n",
        "  zip.extractall()\n",
        "  print('The dataset is extracted')"
      ],
      "metadata": {
        "colab": {
          "base_uri": "https://localhost:8080/"
        },
        "id": "KZJL5I6EQu1R",
        "outputId": "7c0e715d-f979-494d-91d8-e1591a47af93"
      },
      "execution_count": 3,
      "outputs": [
        {
          "output_type": "stream",
          "name": "stdout",
          "text": [
            "The dataset is extracted\n"
          ]
        }
      ]
    },
    {
      "cell_type": "markdown",
      "source": [
        "IMPORTING THE REQUIRED LIBRARIES"
      ],
      "metadata": {
        "id": "fFj797iQA26N"
      }
    },
    {
      "cell_type": "code",
      "execution_count": 4,
      "metadata": {
        "id": "xY2Ch6DhAZLg"
      },
      "outputs": [],
      "source": [
        "import numpy as np\n",
        "import pandas as np\n",
        "from sklearn.model_selection import train_test_split\n",
        "from sklearn.linear_model import LogisticRegression\n",
        "from sklearn.metrics import accuracy_score"
      ]
    },
    {
      "cell_type": "code",
      "source": [],
      "metadata": {
        "id": "6-_zLd2LTCO0"
      },
      "execution_count": null,
      "outputs": []
    }
  ]
}